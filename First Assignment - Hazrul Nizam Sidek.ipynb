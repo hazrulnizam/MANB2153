{
 "cells": [
  {
   "cell_type": "markdown",
   "metadata": {},
   "source": [
    "# MANB2153 - Machine Learning for Business\n",
    "## Hazrul Nizam Sidek\n",
    "### List a few definitions of Machine Learning (with references if possible), and examples of application. Write in paragraphs at Jupyter Notebook.\n",
    "Upload your Jupyter Notebook file at your github."
   ]
  },
  {
   "cell_type": "markdown",
   "metadata": {},
   "source": [
    "#### Definitions of Machine Learning:\n",
    "1. Machine learning technology teaches computers how to perform tasks by learning from data – instead of being explicitly programmed. [1]\n",
    "2. Machine learning is an artificial intelligence (AI) discipline geared toward the technological development of human knowledge. Machine learning allows computers to handle new situations via analysis, self-training, observation and experience. [2]\n",
    "3. Machine learning is programming computers to optimize a performance criterion using example data or past experience. We have a model defined up to some parameters, and learning is the execution of a computer program to optimize the parameters of the model using the training data or past experience. The model may be _predictive_ to make predictions in the future, or _descriptive_ to gain knowledge from data, or both. [3]\n",
    "\n",
    "#### Examples of Machine Learning applications (5):\n",
    "1. Classification or detection of spam online reviews - Whether online reviews posted are genuine, meaningless, or deceptive. [4]\n",
    "2. Recommender systems - Software tools and techniques providing suggestions for items to be of use to a user. The suggestions relate to various decision-making processes, such as what items to buy, what music to listen to, or what online news to read. [5]\n",
    "3. Credit card fraud detection. [6]\n",
    "4. Healthcare - Prediction of chronic disease outbreak in disease-frequent communities. [7]\n",
    "5. Rail network predictive maintenance. [8]\n"
   ]
  },
  {
   "cell_type": "markdown",
   "metadata": {},
   "source": [
    "#### References\n",
    "\n",
    "1. What is Machine Learning, SAP, https://www.sap.com/sea/products/leonardo/machine-learning/what-is-machine-learning.html\n",
    "2. What is Machine Learning? - Definition from Techopedia, https://www.techopedia.com/definition/8181/machine-learning\n",
    "3. Alpaydin, Ethem. _Introduction to machine learning._ MIT press, 2009.\n",
    "4. Crawford, Michael, et al. \"Survey of review spam detection using machine learning techniques.\" _Journal of Big Data_ 2.1 (2015): 23.\n",
    "5. Ricci, Francesco, Lior Rokach, and Bracha Shapira. \"Introduction to recommender systems handbook.\" _Recommender systems handbook._ Springer, Boston, MA, 2011. 1-35.\n",
    "6. Stolfo, Salvatore, et al. \"Credit card fraud detection using meta-learning: Issues and initial results.\" _AAAI-97 Workshop on Fraud Detection and Risk Management._ 1997.\n",
    "7. Chen, Min, et al. \"Disease prediction by machine learning over big data from healthcare communities.\" _Ieee Access 5_ (2017): 8869-8879.\n",
    "8. Li, Hongfei, et al. \"Improving rail network velocity: A machine learning approach to predictive maintenance.\" _Transportation Research Part C: Emerging Technologies_ 45 (2014): 17-26."
   ]
  }
 ],
 "metadata": {
  "kernelspec": {
   "display_name": "Python 3",
   "language": "python",
   "name": "python3"
  },
  "language_info": {
   "codemirror_mode": {
    "name": "ipython",
    "version": 3
   },
   "file_extension": ".py",
   "mimetype": "text/x-python",
   "name": "python",
   "nbconvert_exporter": "python",
   "pygments_lexer": "ipython3",
   "version": "3.7.1"
  }
 },
 "nbformat": 4,
 "nbformat_minor": 2
}
