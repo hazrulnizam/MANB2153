{
  "nbformat": 4,
  "nbformat_minor": 0,
  "metadata": {
    "colab": {
      "name": "Iris MLP.ipynb",
      "version": "0.3.2",
      "provenance": [],
      "include_colab_link": true
    },
    "kernelspec": {
      "name": "python3",
      "display_name": "Python 3"
    }
  },
  "cells": [
    {
      "cell_type": "markdown",
      "metadata": {
        "id": "view-in-github",
        "colab_type": "text"
      },
      "source": [
        "<a href=\"https://colab.research.google.com/github/hazrulnizam/MANB2153/blob/master/Iris_MLP.ipynb\" target=\"_parent\"><img src=\"https://colab.research.google.com/assets/colab-badge.svg\" alt=\"Open In Colab\"/></a>"
      ]
    },
    {
      "metadata": {
        "id": "NMTjkGW0tQmV",
        "colab_type": "code",
        "colab": {
          "base_uri": "https://localhost:8080/",
          "height": 722
        },
        "outputId": "8c060b05-040c-45ef-ea24-b3f76d62e3aa"
      },
      "cell_type": "code",
      "source": [
        "import keras\n",
        "from keras.models import Sequential\n",
        "from keras.layers import Dense, Dropout, Activation\n",
        "from keras.optimizers import SGD\n",
        "from sklearn.datasets import load_iris\n",
        "import numpy as np\n",
        "from sklearn.model_selection import train_test_split\n",
        "from keras.utils import to_categorical\n",
        "\n",
        "# Prepare Iris data\n",
        "data = load_iris()\n",
        "y = to_categorical(data['target'])\n",
        "x = data['data']\n",
        "x_train, x_test, y_train, y_test = train_test_split(x, y, test_size=0.4, random_state=42)\n",
        "\n",
        "model = Sequential()\n",
        "# Dense(64) is a fully-connected layer with 64 hidden units.\n",
        "# in the first layer, you must specify the expected input data shape:\n",
        "# here, 20-dimensional vectors.\n",
        "model.add(Dense(64, activation='relu', input_dim=4))\n",
        "model.add(Dropout(0.5))\n",
        "model.add(Dense(64, activation='relu'))\n",
        "model.add(Dropout(0.5))\n",
        "model.add(Dense(3, activation='softmax'))\n",
        "\n",
        "sgd = SGD(lr=0.01, decay=1e-6, momentum=0.9, nesterov=True)\n",
        "model.compile(loss='categorical_crossentropy',\n",
        "              optimizer=sgd,\n",
        "              metrics=['accuracy'])\n",
        "\n",
        "model.fit(x_train, y_train, batch_size=128, epochs=20)\n",
        "score = model.evaluate(x_test, y_test, batch_size=128)\n",
        "print(score)"
      ],
      "execution_count": 22,
      "outputs": [
        {
          "output_type": "stream",
          "text": [
            "Epoch 1/20\n",
            "90/90 [==============================] - 1s 6ms/step - loss: 1.7536 - acc: 0.4444\n",
            "Epoch 2/20\n",
            "90/90 [==============================] - 0s 69us/step - loss: 1.7845 - acc: 0.4111\n",
            "Epoch 3/20\n",
            "90/90 [==============================] - 0s 62us/step - loss: 1.7598 - acc: 0.4111\n",
            "Epoch 4/20\n",
            "90/90 [==============================] - 0s 59us/step - loss: 1.4966 - acc: 0.4333\n",
            "Epoch 5/20\n",
            "90/90 [==============================] - 0s 54us/step - loss: 1.3313 - acc: 0.5000\n",
            "Epoch 6/20\n",
            "90/90 [==============================] - 0s 55us/step - loss: 1.3194 - acc: 0.4111\n",
            "Epoch 7/20\n",
            "90/90 [==============================] - 0s 54us/step - loss: 1.1263 - acc: 0.4667\n",
            "Epoch 8/20\n",
            "90/90 [==============================] - 0s 68us/step - loss: 1.0533 - acc: 0.4667\n",
            "Epoch 9/20\n",
            "90/90 [==============================] - 0s 63us/step - loss: 1.1237 - acc: 0.4111\n",
            "Epoch 10/20\n",
            "90/90 [==============================] - 0s 40us/step - loss: 0.9436 - acc: 0.5444\n",
            "Epoch 11/20\n",
            "90/90 [==============================] - 0s 27us/step - loss: 1.0044 - acc: 0.5333\n",
            "Epoch 12/20\n",
            "90/90 [==============================] - 0s 31us/step - loss: 0.9577 - acc: 0.4889\n",
            "Epoch 13/20\n",
            "90/90 [==============================] - 0s 32us/step - loss: 0.8350 - acc: 0.5333\n",
            "Epoch 14/20\n",
            "90/90 [==============================] - 0s 46us/step - loss: 0.9951 - acc: 0.5222\n",
            "Epoch 15/20\n",
            "90/90 [==============================] - 0s 25us/step - loss: 0.8979 - acc: 0.5667\n",
            "Epoch 16/20\n",
            "90/90 [==============================] - 0s 41us/step - loss: 0.9059 - acc: 0.5667\n",
            "Epoch 17/20\n",
            "90/90 [==============================] - 0s 46us/step - loss: 0.8157 - acc: 0.6222\n",
            "Epoch 18/20\n",
            "90/90 [==============================] - 0s 47us/step - loss: 0.8199 - acc: 0.6111\n",
            "Epoch 19/20\n",
            "90/90 [==============================] - 0s 44us/step - loss: 0.7898 - acc: 0.6667\n",
            "Epoch 20/20\n",
            "90/90 [==============================] - 0s 34us/step - loss: 0.8189 - acc: 0.5889\n",
            "60/60 [==============================] - 0s 3ms/step\n",
            "[0.6563180685043335, 0.8500000238418579]\n"
          ],
          "name": "stdout"
        }
      ]
    }
  ]
}