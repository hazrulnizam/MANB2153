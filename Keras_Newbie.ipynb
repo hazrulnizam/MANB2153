{
  "nbformat": 4,
  "nbformat_minor": 0,
  "metadata": {
    "colab": {
      "name": "Keras_Newbie.ipynb",
      "version": "0.3.2",
      "provenance": [],
      "collapsed_sections": [],
      "include_colab_link": true
    },
    "kernelspec": {
      "name": "python3",
      "display_name": "Python 3"
    }
  },
  "cells": [
    {
      "cell_type": "markdown",
      "metadata": {
        "id": "view-in-github",
        "colab_type": "text"
      },
      "source": [
        "<a href=\"https://colab.research.google.com/github/hazrulnizam/MANB2153/blob/master/Keras_Newbie.ipynb\" target=\"_parent\"><img src=\"https://colab.research.google.com/assets/colab-badge.svg\" alt=\"Open In Colab\"/></a>"
      ]
    },
    {
      "metadata": {
        "id": "kzAZJPstZe9_",
        "colab_type": "code",
        "colab": {
          "base_uri": "https://localhost:8080/",
          "height": 622
        },
        "outputId": "f5c3a388-07e8-438d-9089-ff85568ac30d"
      },
      "cell_type": "code",
      "source": [
        "# Import necessary modules\n",
        "import keras\n",
        "from keras.layers import Dense\n",
        "from keras.models import Sequential\n",
        "import pandas as pd\n",
        "\n",
        "# Set up data\n",
        "df = pd.read_csv('sample_data/california_housing_train.csv')\n",
        "predictors = df.drop(['median_house_value'], axis = 1).as_matrix()\n",
        "target = df.median_house_value\n",
        "\n",
        "# Save the number of columns in predictors: n_cols\n",
        "n_cols = predictors.shape[1]\n",
        "\n",
        "# Set up the model: model\n",
        "model = Sequential()\n",
        "\n",
        "# Add the first layer\n",
        "model.add(Dense(1000, activation='relu', input_shape=(n_cols,)))\n",
        "\n",
        "# Add the second layer\n",
        "model.add(Dense(1000, activation='relu'))\n",
        "\n",
        "# Add the third layer\n",
        "model.add(Dense(1000, activation='relu'))\n",
        "\n",
        "# Add the output layer\n",
        "model.add(Dense(1))\n",
        "\n",
        "# Compile the model\n",
        "model.compile(optimizer = 'adam', loss = 'mean_squared_error')\n",
        "\n",
        "# Fit the model\n",
        "model.fit(predictors, target, epochs=10)\n",
        "\n",
        "# Print model summary\n",
        "print(model.summary())\n",
        "\n"
      ],
      "execution_count": 31,
      "outputs": [
        {
          "output_type": "stream",
          "text": [
            "Epoch 1/10\n",
            "17000/17000 [==============================] - 23s 1ms/step - loss: 15054087931.3016\n",
            "Epoch 2/10\n",
            "17000/17000 [==============================] - 22s 1ms/step - loss: 8950586639.2998\n",
            "Epoch 3/10\n",
            "17000/17000 [==============================] - 22s 1ms/step - loss: 7488982709.4287\n",
            "Epoch 4/10\n",
            "17000/17000 [==============================] - 22s 1ms/step - loss: 6978995288.1845\n",
            "Epoch 5/10\n",
            "17000/17000 [==============================] - 22s 1ms/step - loss: 6429867316.8866\n",
            "Epoch 6/10\n",
            "17000/17000 [==============================] - 22s 1ms/step - loss: 6160812174.1553\n",
            "Epoch 7/10\n",
            "17000/17000 [==============================] - 22s 1ms/step - loss: 5678074964.0885\n",
            "Epoch 8/10\n",
            "17000/17000 [==============================] - 22s 1ms/step - loss: 5569689371.8287\n",
            "Epoch 9/10\n",
            "17000/17000 [==============================] - 22s 1ms/step - loss: 5383183517.4551\n",
            "Epoch 10/10\n",
            "17000/17000 [==============================] - 22s 1ms/step - loss: 5392430007.4767\n",
            "_________________________________________________________________\n",
            "Layer (type)                 Output Shape              Param #   \n",
            "=================================================================\n",
            "dense_53 (Dense)             (None, 1000)              9000      \n",
            "_________________________________________________________________\n",
            "dense_54 (Dense)             (None, 1000)              1001000   \n",
            "_________________________________________________________________\n",
            "dense_55 (Dense)             (None, 1000)              1001000   \n",
            "_________________________________________________________________\n",
            "dense_56 (Dense)             (None, 1)                 1001      \n",
            "=================================================================\n",
            "Total params: 2,012,001\n",
            "Trainable params: 2,012,001\n",
            "Non-trainable params: 0\n",
            "_________________________________________________________________\n",
            "None\n"
          ],
          "name": "stdout"
        }
      ]
    }
  ]
}